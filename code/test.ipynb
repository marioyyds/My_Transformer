{
 "cells": [
  {
   "cell_type": "code",
   "execution_count": 2,
   "metadata": {},
   "outputs": [],
   "source": [
    "\n",
    "import torch\n",
    "\n"
   ]
  },
  {
   "cell_type": "code",
   "execution_count": 12,
   "metadata": {},
   "outputs": [
    {
     "data": {
      "text/plain": [
       "torch.Size([4])"
      ]
     },
     "execution_count": 12,
     "metadata": {},
     "output_type": "execute_result"
    }
   ],
   "source": [
    "x = torch.rand(3)\n",
    "y = torch.rand(3,4)\n",
    "\n",
    "z = x@y\n",
    "z.size()"
   ]
  },
  {
   "cell_type": "code",
   "execution_count": 16,
   "metadata": {},
   "outputs": [
    {
     "data": {
      "text/plain": [
       "tensor([[[-0.8685,  0.2155],\n",
       "         [ 0.5372,  2.2029],\n",
       "         [-1.2714, -1.4638]],\n",
       "\n",
       "        [[-1.5969, -1.1011],\n",
       "         [-0.7101,  1.1192],\n",
       "         [-1.4478, -1.8410]]])"
      ]
     },
     "execution_count": 16,
     "metadata": {},
     "output_type": "execute_result"
    }
   ],
   "source": [
    "x = torch.randn(3,4)\n",
    "y = x.view(2,-1,2)\n",
    "y"
   ]
  },
  {
   "cell_type": "code",
   "execution_count": 36,
   "metadata": {},
   "outputs": [
    {
     "name": "stdout",
     "output_type": "stream",
     "text": [
      "tensor([[1., 2., 3., 4.],\n",
      "        [5., 6., 7., 8.]])\n",
      "tensor([[1., 2., 3., 4.],\n",
      "        [5., 6., 7., 8.]])\n",
      "tensor([[[1., 2., 3., 4.]],\n",
      "\n",
      "        [[5., 6., 7., 8.]]])\n"
     ]
    },
    {
     "data": {
      "text/plain": [
       "tensor([[[1., 2., 3., 4.],\n",
       "         [1., 2., 3., 4.],\n",
       "         [1., 2., 3., 4.],\n",
       "         [1., 2., 3., 4.],\n",
       "         [1., 2., 3., 4.]],\n",
       "\n",
       "        [[5., 6., 7., 8.],\n",
       "         [5., 6., 7., 8.],\n",
       "         [5., 6., 7., 8.],\n",
       "         [5., 6., 7., 8.],\n",
       "         [5., 6., 7., 8.]]])"
      ]
     },
     "execution_count": 36,
     "metadata": {},
     "output_type": "execute_result"
    }
   ],
   "source": [
    "x = torch.Tensor([[1,2,3,4],[5,6,7,8]])\n",
    "print(x)\n",
    "y = x.squeeze()\n",
    "print(y)\n",
    "z = y.unsqueeze(1)\n",
    "print(z)\n",
    "w = z.expand(2,5,4)\n",
    "w"
   ]
  },
  {
   "cell_type": "code",
   "execution_count": 56,
   "metadata": {},
   "outputs": [
    {
     "name": "stdout",
     "output_type": "stream",
     "text": [
      "tensor([[1., 1., 1.],\n",
      "        [0., 1., 1.]]), torch.Size([2, 3])\n",
      "tensor([[1., 0.],\n",
      "        [1., 1.],\n",
      "        [1., 1.]]), torch.Size([3, 2])\n",
      "tensor([[1., 0.]])\n",
      "tensor([[3., 2.],\n",
      "        [2., 2.]])\n"
     ]
    }
   ],
   "source": [
    "x = torch.triu(torch.ones(2,3))\n",
    "print(f\"{x}, {x.size()}\")\n",
    "y = x.transpose(-1, -2)\n",
    "print(f\"{y}, {y.size()}\")\n",
    "\n",
    "print(y[0:1,:])\n",
    "\n",
    "# print(x@y[0,:])\n",
    "\n",
    "print(torch.matmul(x, y[0:3, :]))"
   ]
  }
 ],
 "metadata": {
  "kernelspec": {
   "display_name": "ChatGLM-Tuning1",
   "language": "python",
   "name": "python3"
  },
  "language_info": {
   "codemirror_mode": {
    "name": "ipython",
    "version": 3
   },
   "file_extension": ".py",
   "mimetype": "text/x-python",
   "name": "python",
   "nbconvert_exporter": "python",
   "pygments_lexer": "ipython3",
   "version": "3.9.18"
  }
 },
 "nbformat": 4,
 "nbformat_minor": 2
}
